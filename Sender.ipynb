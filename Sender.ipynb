{
 "cells": [
  {
   "cell_type": "code",
   "execution_count": 3,
   "id": "117b37a3",
   "metadata": {},
   "outputs": [],
   "source": [
    "#Socket programming is started by importing the socket library and making a simple socket.\n",
    "import socket\n",
    "s=socket.socket()\n",
    "#importing the RSA,hashing and salting function to integrate with our socket connection\n",
    "import speech_recognition as sr\n",
    "import RSA_cryptoproj  as cry\n",
    "import HashingAndSalting as hs\n",
    "import hashlib"
   ]
  },
  {
   "cell_type": "code",
   "execution_count": 5,
   "id": "2e4d4b6e",
   "metadata": {},
   "outputs": [
    {
     "ename": "SyntaxError",
     "evalue": "invalid syntax (<ipython-input-5-ef47f797767e>, line 1)",
     "output_type": "error",
     "traceback": [
      "\u001b[1;36m  File \u001b[1;32m\"<ipython-input-5-ef47f797767e>\"\u001b[1;36m, line \u001b[1;32m1\u001b[0m\n\u001b[1;33m    pip install SpeechRecognition\u001b[0m\n\u001b[1;37m        ^\u001b[0m\n\u001b[1;31mSyntaxError\u001b[0m\u001b[1;31m:\u001b[0m invalid syntax\n"
     ]
    }
   ],
   "source": [
    "pip install SpeechRecognition\n",
    "\n",
    "\n"
   ]
  },
  {
   "cell_type": "code",
   "execution_count": 4,
   "id": "eb48ea63",
   "metadata": {},
   "outputs": [
    {
     "name": "stdout",
     "output_type": "stream",
     "text": [
      "Say something!\n",
      "You said: hello\n",
      "hello\n"
     ]
    }
   ],
   "source": [
    "r = sr.Recognizer()\n",
    "with sr.Microphone() as source:\n",
    "    print(\"Say something!\")\n",
    "    audio = r.listen(source)\n",
    "    try:\n",
    "    # for testing purposes, we're just using the default API key\n",
    "    # to use another API key, use `r.recognize_google(audio, key=\"GOOGLE_SPEECH_RECOGNITION_API_KEY\")`\n",
    "    # instead of `r.recognize_google(audio)`\n",
    "        print(\"You said: \" + r.recognize_google(audio))\n",
    "    except sr.UnknownValueError:\n",
    "        print(\"Google Speech Recognition could not understand audio\")\n",
    "    text=r.recognize_google(audio)\n",
    "    print(text)"
   ]
  },
  {
   "cell_type": "code",
   "execution_count": 10,
   "id": "f411195e",
   "metadata": {},
   "outputs": [
    {
     "name": "stdout",
     "output_type": "stream",
     "text": [
      "Collecting package metadata (current_repodata.json): ...working... done\n",
      "Solving environment: ...working... done\n",
      "\n",
      "# All requested packages already installed.\n",
      "\n",
      "\n",
      "Note: you may need to restart the kernel to use updated packages.\n"
     ]
    }
   ],
   "source": [
    "conda install PyAudio"
   ]
  },
  {
   "cell_type": "code",
   "execution_count": 5,
   "id": "32d60420",
   "metadata": {},
   "outputs": [
    {
     "name": "stdout",
     "output_type": "stream",
     "text": [
      "Socket successfully created\n",
      "Say something!\n",
      "socket is listening\n",
      "You said: my name is Parth\n",
      "492eccff04eb90061026c6e51e50104c93dd457db837868a787fb64bf771f1f6\n",
      "灃ሴ捬ᐆ薸灃ᾀ捬伿㌓捬墷薸༇ⱎ䐾\n"
     ]
    }
   ],
   "source": [
    "port=443\n",
    "ip=\"192.168.29.231\"\n",
    "# creating a socket object \n",
    "client = socket.socket(socket.AF_INET, socket.SOCK_STREAM)\n",
    "print (\"Socket successfully created\")\n",
    "# Next binding to the port to let the server listen to requests\n",
    "client.connect((ip, port))\n",
    "#Initialize the recognizer\n",
    "r = sr.Recognizer()\n",
    "#use the microphone as source for input.\n",
    "with sr.Microphone() as source:\n",
    "    print(\"Say something!\")\n",
    "    # putting the socket into listening mode for any audio from microphone \n",
    "    #listens for the user's input\n",
    "    audio = r.listen(source)\n",
    "    print (\"socket is listening\") \n",
    "    try:\n",
    "    # for testing purposes, we're just using the default API key\n",
    "    # to use another API key, use `r.recognize_google(audio, key=\"GOOGLE_SPEECH_RECOGNITION_API_KEY\")`\n",
    "    # instead of `r.recognize_google(audio)`\n",
    "        print(\"You said: \" + r.recognize_google(audio))\n",
    "    except sr.UnknownValueError:\n",
    "        print(\"Google Speech Recognition could not understand audio\")\n",
    "    text=r.recognize_google(audio)\n",
    "    enc=cry.encrypt_string(text)\n",
    "    decc=cry.decrypt_string(text)\n",
    "    encrypted_salted_text = hs.salt(enc)\n",
    "    #hashing done through SHA-256 algorithm\n",
    "    Sender_HASH = hashlib.sha256(enc.encode()).hexdigest()\n",
    "    client.send(Sender_HASH.encode()+enc.encode())\n",
    "#     client.send(enc.encode())\n",
    "    print(Sender_HASH)\n",
    "    print(enc)"
   ]
  },
  {
   "cell_type": "code",
   "execution_count": null,
   "id": "f00d101c",
   "metadata": {},
   "outputs": [],
   "source": [
    "\n"
   ]
  },
  {
   "cell_type": "code",
   "execution_count": null,
   "id": "e553095d",
   "metadata": {},
   "outputs": [],
   "source": []
  }
 ],
 "metadata": {
  "kernelspec": {
   "display_name": "Python 3",
   "language": "python",
   "name": "python3"
  },
  "language_info": {
   "codemirror_mode": {
    "name": "ipython",
    "version": 3
   },
   "file_extension": ".py",
   "mimetype": "text/x-python",
   "name": "python",
   "nbconvert_exporter": "python",
   "pygments_lexer": "ipython3",
   "version": "3.8.8"
  }
 },
 "nbformat": 4,
 "nbformat_minor": 5
}
