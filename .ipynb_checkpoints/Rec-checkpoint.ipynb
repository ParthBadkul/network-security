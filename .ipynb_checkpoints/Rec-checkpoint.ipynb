{
 "cells": [
  {
   "cell_type": "code",
   "execution_count": 1,
   "id": "d0235c1f",
   "metadata": {},
   "outputs": [
    {
     "name": "stdout",
     "output_type": "stream",
     "text": [
      "Enter prime 1 \n",
      "31\n",
      "Enter prime 2 \n",
      "43\n",
      "Enter prime 3 \n",
      "47\n",
      "n = p * q * r = 62651\n",
      "\n",
      "Euler's function (totient) [phi(n)]: 57960\n",
      "\n",
      "14491\n",
      "public key =  14491 62651\n",
      "private key=  14491 62651\n",
      "Enter a message to encrypt: Parth\n",
      "\n",
      "Plain message: Parth\n",
      "\n",
      "Encrypted message: 墷薸༇ⱎ䐾\n",
      "\n",
      "Decrypted message: Parth\n",
      "\n",
      "Sender Authenticated! Message sent is genuine.\n"
     ]
    }
   ],
   "source": [
    "#Socket programming is started by importing the socket library and making a simple socket.\n",
    "import socket\n",
    "s=socket.socket()\n",
    "#importing the RSA,hashing and salting function to integrate with our socket connection\n",
    "import speech_recognition as sr\n",
    "import RSA_cryptoproj  as cry\n",
    "import HashingAndSalting as hs\n",
    "import hashlib\n"
   ]
  },
  {
   "cell_type": "code",
   "execution_count": null,
   "id": "31c07bfb",
   "metadata": {},
   "outputs": [],
   "source": [
    "# Socket programming is started by importing the socket library and making a simple socket.\n",
    "import socket\n",
    "import subprocess as sp \n",
    "import pyttsx3 \n",
    "s=socket.socket()\n",
    "# reserving a port on our computer in our case it is 1234 but it can be anything \n",
    "port= 443\n",
    "ip= \"192.168.29.231\"\n",
    "# Next binding to the port to let the server listen to requests\n",
    "s.bind((ip,port)) \n",
    "# putting the socket into listening mode\n",
    "s.listen() \n",
    "cl,addr= s.accept() \n",
    "voice=pyttsx3.init() \n",
    "voice.setProperty('rate',150) \n",
    "while True:\n",
    "    data=cl.recv(2048) \n",
    "    talk=data.decode() \n",
    "    voice.say(talk)\n",
    "    voice.runAndWait()\n",
    "    auth=talk[0:64]\n",
    "    decrypt=talk[64:]\n",
    "#     print(talk)\n",
    "    print(talk[0:64])\n",
    "    print(talk[64:])\n",
    "    break\n",
    "    \n",
    "    \n",
    "if(auth==talk[0:64]):\n",
    "    answer=cry.decrypt_string(decrypt)\n",
    "    print(answer)\n",
    "else:\n",
    "    print(\"False\")"
   ]
  },
  {
   "cell_type": "code",
   "execution_count": 4,
   "id": "692aea05",
   "metadata": {},
   "outputs": [
    {
     "name": "stdout",
     "output_type": "stream",
     "text": [
      "Requirement already satisfied: pyttsx3 in c:\\users\\badku\\anaconda3\\lib\\site-packages (2.90)\n",
      "Requirement already satisfied: pywin32 in c:\\users\\badku\\anaconda3\\lib\\site-packages (from pyttsx3) (227)\n",
      "Requirement already satisfied: comtypes in c:\\users\\badku\\anaconda3\\lib\\site-packages (from pyttsx3) (1.1.9)\n",
      "Requirement already satisfied: pypiwin32 in c:\\users\\badku\\anaconda3\\lib\\site-packages (from pyttsx3) (223)\n",
      "Note: you may need to restart the kernel to use updated packages.\n"
     ]
    }
   ],
   "source": [
    "pip install pyttsx3\n"
   ]
  },
  {
   "cell_type": "code",
   "execution_count": null,
   "id": "4e72af9e",
   "metadata": {},
   "outputs": [],
   "source": []
  },
  {
   "cell_type": "code",
   "execution_count": null,
   "id": "95e99c44",
   "metadata": {},
   "outputs": [],
   "source": []
  },
  {
   "cell_type": "code",
   "execution_count": null,
   "id": "6f506075",
   "metadata": {},
   "outputs": [],
   "source": []
  }
 ],
 "metadata": {
  "kernelspec": {
   "display_name": "Python 3",
   "language": "python",
   "name": "python3"
  },
  "language_info": {
   "codemirror_mode": {
    "name": "ipython",
    "version": 3
   },
   "file_extension": ".py",
   "mimetype": "text/x-python",
   "name": "python",
   "nbconvert_exporter": "python",
   "pygments_lexer": "ipython3",
   "version": "3.8.8"
  }
 },
 "nbformat": 4,
 "nbformat_minor": 5
}
